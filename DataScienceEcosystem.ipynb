{
 "cells": [
  {
   "cell_type": "markdown",
   "id": "96637013-3255-4f62-b965-505cc9495a3f",
   "metadata": {},
   "source": [
    "# Data Science Tools and Ecosystem"
   ]
  },
  {
   "cell_type": "markdown",
   "id": "9ef34549-2044-432c-a193-24fc7ec593f3",
   "metadata": {},
   "source": [
    "In this notebook, Data Science Tools and Ecosystem are summarized."
   ]
  },
  {
   "cell_type": "markdown",
   "id": "1ab34c7d-10ca-4da8-885d-f692585a3cd6",
   "metadata": {},
   "source": [
    "**Objectives:**\n",
    "- List of popular data science languages\n",
    "- List of commonly used libraries\n",
    "- List of commonly used tools\n",
    "- How to create a markdonw\n",
    "- How to run a code cell\n"
   ]
  },
  {
   "cell_type": "markdown",
   "id": "789e62f0-265e-402e-aa51-5d9b93f34479",
   "metadata": {},
   "source": [
    "Some of the popular languages that Data Scientists use are:\n",
    "1. Python\n",
    "2. R\n",
    "3. Matlab"
   ]
  },
  {
   "cell_type": "markdown",
   "id": "aa616121-b1a2-4261-941f-9aab68f9e0b7",
   "metadata": {},
   "source": [
    "Some of the commonly used libraries used by Data Scientists include:\n",
    "1. Numpy\n",
    "2. ggplot2\n",
    "3. matplotlib"
   ]
  },
  {
   "cell_type": "markdown",
   "id": "a530c38f-033e-4ee6-965d-ce8d96b9aafe",
   "metadata": {},
   "source": [
    "|Data Science Tools|\n",
    "|------------------|\n",
    "|Hadoop|\n",
    "|Jupyter Notebooks|\n",
    "|RStudio|\n",
    "\n"
   ]
  },
  {
   "cell_type": "markdown",
   "id": "2741f939-9b62-487d-9c0e-0a7bfa17a2e5",
   "metadata": {},
   "source": [
    "### Below are a few examples of evaluating arithmetic expressions in Python."
   ]
  },
  {
   "cell_type": "code",
   "execution_count": 3,
   "id": "f0e1d2bb-b076-4d40-9f37-c2d4fd03e9a4",
   "metadata": {},
   "outputs": [
    {
     "data": {
      "text/plain": [
       "17"
      ]
     },
     "execution_count": 3,
     "metadata": {},
     "output_type": "execute_result"
    }
   ],
   "source": [
    "# This a simple arithmetic expression to mutiply then add integers\n",
    "(3*4)+5\n"
   ]
  },
  {
   "cell_type": "code",
   "execution_count": 4,
   "id": "adde3ada-cf4e-4251-a201-d7036a7a1b93",
   "metadata": {},
   "outputs": [
    {
     "data": {
      "text/plain": [
       "3.3333333333333335"
      ]
     },
     "execution_count": 4,
     "metadata": {},
     "output_type": "execute_result"
    }
   ],
   "source": [
    "#This will convert 200 minutes to hours by diving by 60\n",
    "200/60"
   ]
  },
  {
   "cell_type": "markdown",
   "id": "f320031c-ecb5-46ce-9b47-9373ea92c8b7",
   "metadata": {},
   "source": [
    "## Author:\n",
    "Martin Graf"
   ]
  },
  {
   "cell_type": "code",
   "execution_count": null,
   "id": "21d4475f-bb0d-481b-b572-67d0eb2e20d0",
   "metadata": {},
   "outputs": [],
   "source": []
  }
 ],
 "metadata": {
  "kernelspec": {
   "display_name": "Python 3 (ipykernel)",
   "language": "python",
   "name": "python3"
  },
  "language_info": {
   "codemirror_mode": {
    "name": "ipython",
    "version": 3
   },
   "file_extension": ".py",
   "mimetype": "text/x-python",
   "name": "python",
   "nbconvert_exporter": "python",
   "pygments_lexer": "ipython3",
   "version": "3.9.13"
  }
 },
 "nbformat": 4,
 "nbformat_minor": 5
}
